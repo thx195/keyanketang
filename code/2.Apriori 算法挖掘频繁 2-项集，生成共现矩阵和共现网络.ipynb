{
 "cells": [
  {
   "cell_type": "markdown",
   "metadata": {},
   "source": [
    "读取数据"
   ]
  },
  {
   "cell_type": "code",
   "execution_count": 1,
   "metadata": {},
   "outputs": [
    {
     "name": "stdout",
     "output_type": "stream",
     "text": [
      "成功加载数据，共 119700 条记录。\n"
     ]
    }
   ],
   "source": [
    "import pandas as pd\n",
    "import os\n",
    "\n",
    "# 数据路径\n",
    "data_path = \"E:/solid-state patent data/csv_cleaned_ipc.csv\"\n",
    "output_folder = \"E:/solid-state patent data/新建文件夹\"\n",
    "\n",
    "try:\n",
    "    # 创建输出文件夹（如果不存在）\n",
    "    os.makedirs(output_folder, exist_ok=True)\n",
    "    \n",
    "    # 读取数据\n",
    "    df = pd.read_csv(data_path, encoding='utf-8', low_memory=False)\n",
    "    \n",
    "    # 检查是否存在 'IPC - 现版' 列\n",
    "    if 'IPC - 现版' not in df.columns:\n",
    "        raise KeyError(\"数据中缺少 'IPC - 现版' 列，请检查数据。\")\n",
    "    \n",
    "    # 提取 IPC 分类号\n",
    "    df_ipc = df[['公开号', 'IPC - 现版']].dropna(subset=['IPC - 现版'])\n",
    "    \n",
    "    print(f\"成功加载数据，共 {len(df_ipc)} 条记录。\")\n",
    "    \n",
    "except Exception as e:\n",
    "    print(\"读取或处理数据时出错:\", e)"
   ]
  },
  {
   "cell_type": "markdown",
   "metadata": {},
   "source": [
    "构建IPC-频繁2项集"
   ]
  },
  {
   "cell_type": "code",
   "execution_count": 2,
   "metadata": {},
   "outputs": [
    {
     "name": "stderr",
     "output_type": "stream",
     "text": [
      "c:\\Users\\30558\\AppData\\Local\\Programs\\Python\\Python39\\lib\\site-packages\\mlxtend\\frequent_patterns\\fpcommon.py:161: DeprecationWarning: DataFrames with non-bool types result in worse computationalperformance and their support might be discontinued in the future.Please use a DataFrame with bool type\n",
      "  warnings.warn(\n"
     ]
    },
    {
     "name": "stdout",
     "output_type": "stream",
     "text": [
      "频繁 2-项集已成功保存到 E:/solid-state patent data/新建文件夹/frequent_2_itemsets.csv\n"
     ]
    }
   ],
   "source": [
    "from mlxtend.frequent_patterns import apriori\n",
    "from collections import defaultdict\n",
    "\n",
    "try:\n",
    "    # 将每个专利对应的 IPC 分类号转换为集合\n",
    "    ipc_sets = df_ipc.groupby('公开号')['IPC - 现版'].apply(set).tolist()\n",
    "    \n",
    "    # 获取所有唯一的 IPC 分类号，并转换为有序列表\n",
    "    all_ipcs = sorted(set.union(*ipc_sets))  # 使用 sorted 确保列名有序\n",
    "    \n",
    "    # 构建事务矩阵\n",
    "    transaction_matrix = []\n",
    "    for ipc_set in ipc_sets:\n",
    "        row = [1 if ipc in ipc_set else 0 for ipc in all_ipcs]\n",
    "        transaction_matrix.append(row)\n",
    "    \n",
    "    # 转换为 DataFrame\n",
    "    transaction_df = pd.DataFrame(transaction_matrix, columns=all_ipcs)\n",
    "    \n",
    "    # 使用 Apriori 算法挖掘频繁项集\n",
    "    frequent_itemsets = apriori(transaction_df, min_support=0.001, use_colnames=True)\n",
    "    \n",
    "    \n",
    "    #这里调参\n",
    "    \n",
    "    \n",
    "    # 过滤频繁 2-项集\n",
    "    frequent_2_itemsets = frequent_itemsets[frequent_itemsets['itemsets'].apply(lambda x: len(x) == 2)]\n",
    "    \n",
    "    # 保存频繁 2-项集到 CSV 文件\n",
    "    frequent_2_itemsets.to_csv(os.path.join(output_folder, \"frequent_2_itemsets.csv\"), index=False, encoding='utf-8')\n",
    "    \n",
    "    print(f\"频繁 2-项集已成功保存到 {output_folder}/frequent_2_itemsets.csv\")\n",
    "    \n",
    "except Exception as e:\n",
    "    print(\"构建频繁 2-项集时出错:\", e)"
   ]
  },
  {
   "cell_type": "markdown",
   "metadata": {},
   "source": [
    "加载频繁2项集"
   ]
  },
  {
   "cell_type": "code",
   "execution_count": 3,
   "metadata": {},
   "outputs": [
    {
     "name": "stdout",
     "output_type": "stream",
     "text": [
      "成功加载频繁 2-项集：\n",
      "      support      itemsets\n",
      "0    0.001466  {A24F, A61M}\n",
      "1    0.001005  {H01G, A24F}\n",
      "2    0.001508  {H01M, A24F}\n",
      "3    0.003561  {A24F, H02J}\n",
      "4    0.002388  {H05B, A24F}\n",
      "..        ...           ...\n",
      "96   0.001424  {H05B, H01M}\n",
      "97   0.001340  {H01M, H05K}\n",
      "98   0.001885  {H01M, H10N}\n",
      "99   0.001215  {H02J, H02M}\n",
      "100  0.001759  {H05B, H02J}\n",
      "\n",
      "[101 rows x 2 columns]\n"
     ]
    }
   ],
   "source": [
    "import pandas as pd\n",
    "import os\n",
    "\n",
    "# 数据路径\n",
    "output_folder = \"E:/solid-state patent data/新建文件夹\"\n",
    "frequent_2_itemsets_path = os.path.join(output_folder, \"frequent_2_itemsets.csv\")\n",
    "\n",
    "try:\n",
    "    # 加载频繁 2-项集\n",
    "    frequent_2_itemsets = pd.read_csv(frequent_2_itemsets_path)\n",
    "    \n",
    "    # 将 frozenset 列转换为实际的集合\n",
    "    frequent_2_itemsets['itemsets'] = frequent_2_itemsets['itemsets'].apply(\n",
    "        lambda x: set(eval(x))  # 将 frozenset 转换为 set\n",
    "    )\n",
    "    \n",
    "    print(\"成功加载频繁 2-项集：\")\n",
    "    print(frequent_2_itemsets)\n",
    "    \n",
    "except Exception as e:\n",
    "    print(\"加载频繁 2-项集时出错:\", e)"
   ]
  },
  {
   "cell_type": "markdown",
   "metadata": {},
   "source": [
    "构建共现矩阵"
   ]
  },
  {
   "cell_type": "code",
   "execution_count": 4,
   "metadata": {},
   "outputs": [
    {
     "name": "stdout",
     "output_type": "stream",
     "text": [
      "共现矩阵已成功保存到 E:/solid-state patent data/新建文件夹/co_occurrence_matrix.csv\n"
     ]
    },
    {
     "name": "stderr",
     "output_type": "stream",
     "text": [
      "C:\\Users\\30558\\AppData\\Local\\Temp\\ipykernel_15752\\1576337442.py:12: FutureWarning: Setting an item of incompatible dtype is deprecated and will raise an error in a future version of pandas. Value '0.0014661528150134' has dtype incompatible with int64, please explicitly cast to a compatible dtype first.\n",
      "  co_occurrence_matrix.at[itemset[0], itemset[1]] = support\n",
      "C:\\Users\\30558\\AppData\\Local\\Temp\\ipykernel_15752\\1576337442.py:13: FutureWarning: Setting an item of incompatible dtype is deprecated and will raise an error in a future version of pandas. Value '0.0014661528150134' has dtype incompatible with int64, please explicitly cast to a compatible dtype first.\n",
      "  co_occurrence_matrix.at[itemset[1], itemset[0]] = support\n",
      "C:\\Users\\30558\\AppData\\Local\\Temp\\ipykernel_15752\\1576337442.py:13: FutureWarning: Setting an item of incompatible dtype is deprecated and will raise an error in a future version of pandas. Value '0.0010053619302949' has dtype incompatible with int64, please explicitly cast to a compatible dtype first.\n",
      "  co_occurrence_matrix.at[itemset[1], itemset[0]] = support\n",
      "C:\\Users\\30558\\AppData\\Local\\Temp\\ipykernel_15752\\1576337442.py:13: FutureWarning: Setting an item of incompatible dtype is deprecated and will raise an error in a future version of pandas. Value '0.0015080428954423' has dtype incompatible with int64, please explicitly cast to a compatible dtype first.\n",
      "  co_occurrence_matrix.at[itemset[1], itemset[0]] = support\n",
      "C:\\Users\\30558\\AppData\\Local\\Temp\\ipykernel_15752\\1576337442.py:12: FutureWarning: Setting an item of incompatible dtype is deprecated and will raise an error in a future version of pandas. Value '0.0035606568364611' has dtype incompatible with int64, please explicitly cast to a compatible dtype first.\n",
      "  co_occurrence_matrix.at[itemset[0], itemset[1]] = support\n",
      "C:\\Users\\30558\\AppData\\Local\\Temp\\ipykernel_15752\\1576337442.py:13: FutureWarning: Setting an item of incompatible dtype is deprecated and will raise an error in a future version of pandas. Value '0.0023877345844504' has dtype incompatible with int64, please explicitly cast to a compatible dtype first.\n",
      "  co_occurrence_matrix.at[itemset[1], itemset[0]] = support\n",
      "C:\\Users\\30558\\AppData\\Local\\Temp\\ipykernel_15752\\1576337442.py:12: FutureWarning: Setting an item of incompatible dtype is deprecated and will raise an error in a future version of pandas. Value '0.0010891420911528' has dtype incompatible with int64, please explicitly cast to a compatible dtype first.\n",
      "  co_occurrence_matrix.at[itemset[0], itemset[1]] = support\n",
      "C:\\Users\\30558\\AppData\\Local\\Temp\\ipykernel_15752\\1576337442.py:12: FutureWarning: Setting an item of incompatible dtype is deprecated and will raise an error in a future version of pandas. Value '0.0010053619302949' has dtype incompatible with int64, please explicitly cast to a compatible dtype first.\n",
      "  co_occurrence_matrix.at[itemset[0], itemset[1]] = support\n",
      "C:\\Users\\30558\\AppData\\Local\\Temp\\ipykernel_15752\\1576337442.py:13: FutureWarning: Setting an item of incompatible dtype is deprecated and will raise an error in a future version of pandas. Value '0.0010053619302949' has dtype incompatible with int64, please explicitly cast to a compatible dtype first.\n",
      "  co_occurrence_matrix.at[itemset[1], itemset[0]] = support\n",
      "C:\\Users\\30558\\AppData\\Local\\Temp\\ipykernel_15752\\1576337442.py:12: FutureWarning: Setting an item of incompatible dtype is deprecated and will raise an error in a future version of pandas. Value '0.0010053619302949' has dtype incompatible with int64, please explicitly cast to a compatible dtype first.\n",
      "  co_occurrence_matrix.at[itemset[0], itemset[1]] = support\n",
      "C:\\Users\\30558\\AppData\\Local\\Temp\\ipykernel_15752\\1576337442.py:12: FutureWarning: Setting an item of incompatible dtype is deprecated and will raise an error in a future version of pandas. Value '0.0034768766756032' has dtype incompatible with int64, please explicitly cast to a compatible dtype first.\n",
      "  co_occurrence_matrix.at[itemset[0], itemset[1]] = support\n",
      "C:\\Users\\30558\\AppData\\Local\\Temp\\ipykernel_15752\\1576337442.py:12: FutureWarning: Setting an item of incompatible dtype is deprecated and will raise an error in a future version of pandas. Value '0.0017174932975871' has dtype incompatible with int64, please explicitly cast to a compatible dtype first.\n",
      "  co_occurrence_matrix.at[itemset[0], itemset[1]] = support\n",
      "C:\\Users\\30558\\AppData\\Local\\Temp\\ipykernel_15752\\1576337442.py:12: FutureWarning: Setting an item of incompatible dtype is deprecated and will raise an error in a future version of pandas. Value '0.0048173592493297' has dtype incompatible with int64, please explicitly cast to a compatible dtype first.\n",
      "  co_occurrence_matrix.at[itemset[0], itemset[1]] = support\n",
      "C:\\Users\\30558\\AppData\\Local\\Temp\\ipykernel_15752\\1576337442.py:12: FutureWarning: Setting an item of incompatible dtype is deprecated and will raise an error in a future version of pandas. Value '0.0031836461126005' has dtype incompatible with int64, please explicitly cast to a compatible dtype first.\n",
      "  co_occurrence_matrix.at[itemset[0], itemset[1]] = support\n",
      "C:\\Users\\30558\\AppData\\Local\\Temp\\ipykernel_15752\\1576337442.py:12: FutureWarning: Setting an item of incompatible dtype is deprecated and will raise an error in a future version of pandas. Value '0.0012985924932975' has dtype incompatible with int64, please explicitly cast to a compatible dtype first.\n",
      "  co_occurrence_matrix.at[itemset[0], itemset[1]] = support\n",
      "C:\\Users\\30558\\AppData\\Local\\Temp\\ipykernel_15752\\1576337442.py:13: FutureWarning: Setting an item of incompatible dtype is deprecated and will raise an error in a future version of pandas. Value '0.001801273458445' has dtype incompatible with int64, please explicitly cast to a compatible dtype first.\n",
      "  co_occurrence_matrix.at[itemset[1], itemset[0]] = support\n",
      "C:\\Users\\30558\\AppData\\Local\\Temp\\ipykernel_15752\\1576337442.py:12: FutureWarning: Setting an item of incompatible dtype is deprecated and will raise an error in a future version of pandas. Value '0.0010472520107238' has dtype incompatible with int64, please explicitly cast to a compatible dtype first.\n",
      "  co_occurrence_matrix.at[itemset[0], itemset[1]] = support\n",
      "C:\\Users\\30558\\AppData\\Local\\Temp\\ipykernel_15752\\1576337442.py:13: FutureWarning: Setting an item of incompatible dtype is deprecated and will raise an error in a future version of pandas. Value '0.0010472520107238' has dtype incompatible with int64, please explicitly cast to a compatible dtype first.\n",
      "  co_occurrence_matrix.at[itemset[1], itemset[0]] = support\n",
      "C:\\Users\\30558\\AppData\\Local\\Temp\\ipykernel_15752\\1576337442.py:13: FutureWarning: Setting an item of incompatible dtype is deprecated and will raise an error in a future version of pandas. Value '0.0013823726541554' has dtype incompatible with int64, please explicitly cast to a compatible dtype first.\n",
      "  co_occurrence_matrix.at[itemset[1], itemset[0]] = support\n",
      "C:\\Users\\30558\\AppData\\Local\\Temp\\ipykernel_15752\\1576337442.py:12: FutureWarning: Setting an item of incompatible dtype is deprecated and will raise an error in a future version of pandas. Value '0.0031836461126005' has dtype incompatible with int64, please explicitly cast to a compatible dtype first.\n",
      "  co_occurrence_matrix.at[itemset[0], itemset[1]] = support\n",
      "C:\\Users\\30558\\AppData\\Local\\Temp\\ipykernel_15752\\1576337442.py:12: FutureWarning: Setting an item of incompatible dtype is deprecated and will raise an error in a future version of pandas. Value '0.0016756032171581' has dtype incompatible with int64, please explicitly cast to a compatible dtype first.\n",
      "  co_occurrence_matrix.at[itemset[0], itemset[1]] = support\n",
      "C:\\Users\\30558\\AppData\\Local\\Temp\\ipykernel_15752\\1576337442.py:13: FutureWarning: Setting an item of incompatible dtype is deprecated and will raise an error in a future version of pandas. Value '0.0016756032171581' has dtype incompatible with int64, please explicitly cast to a compatible dtype first.\n",
      "  co_occurrence_matrix.at[itemset[1], itemset[0]] = support\n",
      "C:\\Users\\30558\\AppData\\Local\\Temp\\ipykernel_15752\\1576337442.py:12: FutureWarning: Setting an item of incompatible dtype is deprecated and will raise an error in a future version of pandas. Value '0.0066605227882037' has dtype incompatible with int64, please explicitly cast to a compatible dtype first.\n",
      "  co_occurrence_matrix.at[itemset[0], itemset[1]] = support\n",
      "C:\\Users\\30558\\AppData\\Local\\Temp\\ipykernel_15752\\1576337442.py:13: FutureWarning: Setting an item of incompatible dtype is deprecated and will raise an error in a future version of pandas. Value '0.0030579758713136' has dtype incompatible with int64, please explicitly cast to a compatible dtype first.\n",
      "  co_occurrence_matrix.at[itemset[1], itemset[0]] = support\n",
      "C:\\Users\\30558\\AppData\\Local\\Temp\\ipykernel_15752\\1576337442.py:13: FutureWarning: Setting an item of incompatible dtype is deprecated and will raise an error in a future version of pandas. Value '0.0019269436997319' has dtype incompatible with int64, please explicitly cast to a compatible dtype first.\n",
      "  co_occurrence_matrix.at[itemset[1], itemset[0]] = support\n",
      "C:\\Users\\30558\\AppData\\Local\\Temp\\ipykernel_15752\\1576337442.py:13: FutureWarning: Setting an item of incompatible dtype is deprecated and will raise an error in a future version of pandas. Value '0.007330764075067' has dtype incompatible with int64, please explicitly cast to a compatible dtype first.\n",
      "  co_occurrence_matrix.at[itemset[1], itemset[0]] = support\n",
      "C:\\Users\\30558\\AppData\\Local\\Temp\\ipykernel_15752\\1576337442.py:12: FutureWarning: Setting an item of incompatible dtype is deprecated and will raise an error in a future version of pandas. Value '0.0017174932975871' has dtype incompatible with int64, please explicitly cast to a compatible dtype first.\n",
      "  co_occurrence_matrix.at[itemset[0], itemset[1]] = support\n",
      "C:\\Users\\30558\\AppData\\Local\\Temp\\ipykernel_15752\\1576337442.py:13: FutureWarning: Setting an item of incompatible dtype is deprecated and will raise an error in a future version of pandas. Value '0.0033093163538873' has dtype incompatible with int64, please explicitly cast to a compatible dtype first.\n",
      "  co_occurrence_matrix.at[itemset[1], itemset[0]] = support\n",
      "C:\\Users\\30558\\AppData\\Local\\Temp\\ipykernel_15752\\1576337442.py:13: FutureWarning: Setting an item of incompatible dtype is deprecated and will raise an error in a future version of pandas. Value '0.0187248659517426' has dtype incompatible with int64, please explicitly cast to a compatible dtype first.\n",
      "  co_occurrence_matrix.at[itemset[1], itemset[0]] = support\n",
      "C:\\Users\\30558\\AppData\\Local\\Temp\\ipykernel_15752\\1576337442.py:13: FutureWarning: Setting an item of incompatible dtype is deprecated and will raise an error in a future version of pandas. Value '0.0015918230563002' has dtype incompatible with int64, please explicitly cast to a compatible dtype first.\n",
      "  co_occurrence_matrix.at[itemset[1], itemset[0]] = support\n",
      "C:\\Users\\30558\\AppData\\Local\\Temp\\ipykernel_15752\\1576337442.py:12: FutureWarning: Setting an item of incompatible dtype is deprecated and will raise an error in a future version of pandas. Value '0.0011310321715817' has dtype incompatible with int64, please explicitly cast to a compatible dtype first.\n",
      "  co_occurrence_matrix.at[itemset[0], itemset[1]] = support\n",
      "C:\\Users\\30558\\AppData\\Local\\Temp\\ipykernel_15752\\1576337442.py:12: FutureWarning: Setting an item of incompatible dtype is deprecated and will raise an error in a future version of pandas. Value '0.0018431635388739' has dtype incompatible with int64, please explicitly cast to a compatible dtype first.\n",
      "  co_occurrence_matrix.at[itemset[0], itemset[1]] = support\n",
      "C:\\Users\\30558\\AppData\\Local\\Temp\\ipykernel_15752\\1576337442.py:12: FutureWarning: Setting an item of incompatible dtype is deprecated and will raise an error in a future version of pandas. Value '0.002722855227882' has dtype incompatible with int64, please explicitly cast to a compatible dtype first.\n",
      "  co_occurrence_matrix.at[itemset[0], itemset[1]] = support\n",
      "C:\\Users\\30558\\AppData\\Local\\Temp\\ipykernel_15752\\1576337442.py:12: FutureWarning: Setting an item of incompatible dtype is deprecated and will raise an error in a future version of pandas. Value '0.0012985924932975' has dtype incompatible with int64, please explicitly cast to a compatible dtype first.\n",
      "  co_occurrence_matrix.at[itemset[0], itemset[1]] = support\n",
      "C:\\Users\\30558\\AppData\\Local\\Temp\\ipykernel_15752\\1576337442.py:13: FutureWarning: Setting an item of incompatible dtype is deprecated and will raise an error in a future version of pandas. Value '0.0012985924932975' has dtype incompatible with int64, please explicitly cast to a compatible dtype first.\n",
      "  co_occurrence_matrix.at[itemset[1], itemset[0]] = support\n",
      "C:\\Users\\30558\\AppData\\Local\\Temp\\ipykernel_15752\\1576337442.py:12: FutureWarning: Setting an item of incompatible dtype is deprecated and will raise an error in a future version of pandas. Value '0.0012567024128686' has dtype incompatible with int64, please explicitly cast to a compatible dtype first.\n",
      "  co_occurrence_matrix.at[itemset[0], itemset[1]] = support\n",
      "C:\\Users\\30558\\AppData\\Local\\Temp\\ipykernel_15752\\1576337442.py:12: FutureWarning: Setting an item of incompatible dtype is deprecated and will raise an error in a future version of pandas. Value '0.0029741957104557' has dtype incompatible with int64, please explicitly cast to a compatible dtype first.\n",
      "  co_occurrence_matrix.at[itemset[0], itemset[1]] = support\n",
      "C:\\Users\\30558\\AppData\\Local\\Temp\\ipykernel_15752\\1576337442.py:12: FutureWarning: Setting an item of incompatible dtype is deprecated and will raise an error in a future version of pandas. Value '0.0042308981233243' has dtype incompatible with int64, please explicitly cast to a compatible dtype first.\n",
      "  co_occurrence_matrix.at[itemset[0], itemset[1]] = support\n",
      "C:\\Users\\30558\\AppData\\Local\\Temp\\ipykernel_15752\\1576337442.py:13: FutureWarning: Setting an item of incompatible dtype is deprecated and will raise an error in a future version of pandas. Value '0.0010472520107238' has dtype incompatible with int64, please explicitly cast to a compatible dtype first.\n",
      "  co_occurrence_matrix.at[itemset[1], itemset[0]] = support\n",
      "C:\\Users\\30558\\AppData\\Local\\Temp\\ipykernel_15752\\1576337442.py:12: FutureWarning: Setting an item of incompatible dtype is deprecated and will raise an error in a future version of pandas. Value '0.0025552949061662' has dtype incompatible with int64, please explicitly cast to a compatible dtype first.\n",
      "  co_occurrence_matrix.at[itemset[0], itemset[1]] = support\n",
      "C:\\Users\\30558\\AppData\\Local\\Temp\\ipykernel_15752\\1576337442.py:12: FutureWarning: Setting an item of incompatible dtype is deprecated and will raise an error in a future version of pandas. Value '0.0010891420911528' has dtype incompatible with int64, please explicitly cast to a compatible dtype first.\n",
      "  co_occurrence_matrix.at[itemset[0], itemset[1]] = support\n",
      "C:\\Users\\30558\\AppData\\Local\\Temp\\ipykernel_15752\\1576337442.py:12: FutureWarning: Setting an item of incompatible dtype is deprecated and will raise an error in a future version of pandas. Value '0.001801273458445' has dtype incompatible with int64, please explicitly cast to a compatible dtype first.\n",
      "  co_occurrence_matrix.at[itemset[0], itemset[1]] = support\n",
      "C:\\Users\\30558\\AppData\\Local\\Temp\\ipykernel_15752\\1576337442.py:12: FutureWarning: Setting an item of incompatible dtype is deprecated and will raise an error in a future version of pandas. Value '0.0018850536193029' has dtype incompatible with int64, please explicitly cast to a compatible dtype first.\n",
      "  co_occurrence_matrix.at[itemset[0], itemset[1]] = support\n",
      "C:\\Users\\30558\\AppData\\Local\\Temp\\ipykernel_15752\\1576337442.py:12: FutureWarning: Setting an item of incompatible dtype is deprecated and will raise an error in a future version of pandas. Value '0.0099698391420911' has dtype incompatible with int64, please explicitly cast to a compatible dtype first.\n",
      "  co_occurrence_matrix.at[itemset[0], itemset[1]] = support\n",
      "C:\\Users\\30558\\AppData\\Local\\Temp\\ipykernel_15752\\1576337442.py:12: FutureWarning: Setting an item of incompatible dtype is deprecated and will raise an error in a future version of pandas. Value '0.0011310321715817' has dtype incompatible with int64, please explicitly cast to a compatible dtype first.\n",
      "  co_occurrence_matrix.at[itemset[0], itemset[1]] = support\n",
      "C:\\Users\\30558\\AppData\\Local\\Temp\\ipykernel_15752\\1576337442.py:13: FutureWarning: Setting an item of incompatible dtype is deprecated and will raise an error in a future version of pandas. Value '0.0011310321715817' has dtype incompatible with int64, please explicitly cast to a compatible dtype first.\n",
      "  co_occurrence_matrix.at[itemset[1], itemset[0]] = support\n",
      "C:\\Users\\30558\\AppData\\Local\\Temp\\ipykernel_15752\\1576337442.py:12: FutureWarning: Setting an item of incompatible dtype is deprecated and will raise an error in a future version of pandas. Value '0.0011310321715817' has dtype incompatible with int64, please explicitly cast to a compatible dtype first.\n",
      "  co_occurrence_matrix.at[itemset[0], itemset[1]] = support\n",
      "C:\\Users\\30558\\AppData\\Local\\Temp\\ipykernel_15752\\1576337442.py:12: FutureWarning: Setting an item of incompatible dtype is deprecated and will raise an error in a future version of pandas. Value '0.0010053619302949' has dtype incompatible with int64, please explicitly cast to a compatible dtype first.\n",
      "  co_occurrence_matrix.at[itemset[0], itemset[1]] = support\n",
      "C:\\Users\\30558\\AppData\\Local\\Temp\\ipykernel_15752\\1576337442.py:12: FutureWarning: Setting an item of incompatible dtype is deprecated and will raise an error in a future version of pandas. Value '0.0012148123324396' has dtype incompatible with int64, please explicitly cast to a compatible dtype first.\n",
      "  co_occurrence_matrix.at[itemset[0], itemset[1]] = support\n",
      "C:\\Users\\30558\\AppData\\Local\\Temp\\ipykernel_15752\\1576337442.py:12: FutureWarning: Setting an item of incompatible dtype is deprecated and will raise an error in a future version of pandas. Value '0.0012985924932975' has dtype incompatible with int64, please explicitly cast to a compatible dtype first.\n",
      "  co_occurrence_matrix.at[itemset[0], itemset[1]] = support\n",
      "C:\\Users\\30558\\AppData\\Local\\Temp\\ipykernel_15752\\1576337442.py:13: FutureWarning: Setting an item of incompatible dtype is deprecated and will raise an error in a future version of pandas. Value '0.0012985924932975' has dtype incompatible with int64, please explicitly cast to a compatible dtype first.\n",
      "  co_occurrence_matrix.at[itemset[1], itemset[0]] = support\n",
      "C:\\Users\\30558\\AppData\\Local\\Temp\\ipykernel_15752\\1576337442.py:12: FutureWarning: Setting an item of incompatible dtype is deprecated and will raise an error in a future version of pandas. Value '0.0030998659517426' has dtype incompatible with int64, please explicitly cast to a compatible dtype first.\n",
      "  co_occurrence_matrix.at[itemset[0], itemset[1]] = support\n",
      "C:\\Users\\30558\\AppData\\Local\\Temp\\ipykernel_15752\\1576337442.py:12: FutureWarning: Setting an item of incompatible dtype is deprecated and will raise an error in a future version of pandas. Value '0.0027647453083109' has dtype incompatible with int64, please explicitly cast to a compatible dtype first.\n",
      "  co_occurrence_matrix.at[itemset[0], itemset[1]] = support\n",
      "C:\\Users\\30558\\AppData\\Local\\Temp\\ipykernel_15752\\1576337442.py:12: FutureWarning: Setting an item of incompatible dtype is deprecated and will raise an error in a future version of pandas. Value '0.0013404825737265' has dtype incompatible with int64, please explicitly cast to a compatible dtype first.\n",
      "  co_occurrence_matrix.at[itemset[0], itemset[1]] = support\n",
      "C:\\Users\\30558\\AppData\\Local\\Temp\\ipykernel_15752\\1576337442.py:12: FutureWarning: Setting an item of incompatible dtype is deprecated and will raise an error in a future version of pandas. Value '0.0018850536193029' has dtype incompatible with int64, please explicitly cast to a compatible dtype first.\n",
      "  co_occurrence_matrix.at[itemset[0], itemset[1]] = support\n",
      "C:\\Users\\30558\\AppData\\Local\\Temp\\ipykernel_15752\\1576337442.py:12: FutureWarning: Setting an item of incompatible dtype is deprecated and will raise an error in a future version of pandas. Value '0.0012148123324396' has dtype incompatible with int64, please explicitly cast to a compatible dtype first.\n",
      "  co_occurrence_matrix.at[itemset[0], itemset[1]] = support\n"
     ]
    }
   ],
   "source": [
    "try:\n",
    "    # 获取所有唯一的 IPC 分类号\n",
    "    all_ipcs = sorted(set.union(*[set(itemset) for itemset in frequent_2_itemsets['itemsets']]))\n",
    "    \n",
    "    # 初始化共现矩阵\n",
    "    co_occurrence_matrix = pd.DataFrame(0, index=all_ipcs, columns=all_ipcs)\n",
    "    \n",
    "    # 填充共现矩阵\n",
    "    for _, row in frequent_2_itemsets.iterrows():\n",
    "        itemset = list(row['itemsets'])\n",
    "        support = row['support']\n",
    "        co_occurrence_matrix.at[itemset[0], itemset[1]] = support\n",
    "        co_occurrence_matrix.at[itemset[1], itemset[0]] = support\n",
    "    \n",
    "    # 保存共现矩阵到 CSV 文件\n",
    "    co_occurrence_matrix.to_csv(os.path.join(output_folder, \"co_occurrence_matrix.csv\"), encoding='utf-8')\n",
    "    \n",
    "    print(f\"共现矩阵已成功保存到 {output_folder}/co_occurrence_matrix.csv\")\n",
    "    \n",
    "except Exception as e:\n",
    "    print(\"构建共现矩阵时出错:\", e)"
   ]
  },
  {
   "cell_type": "markdown",
   "metadata": {},
   "source": [
    "使用 NetworkX 构建共现网络，并生成可视化图表。"
   ]
  },
  {
   "cell_type": "code",
   "execution_count": 5,
   "metadata": {},
   "outputs": [
    {
     "name": "stdout",
     "output_type": "stream",
     "text": [
      "共现网络图表已成功保存到 E:/solid-state patent data/新建文件夹/ipc_co_occurrence_network.png\n"
     ]
    }
   ],
   "source": [
    "import networkx as nx\n",
    "import matplotlib.pyplot as plt\n",
    "\n",
    "try:\n",
    "    # 构建共现网络\n",
    "    G = nx.Graph()\n",
    "    \n",
    "    # 添加节点和边\n",
    "    for _, row in frequent_2_itemsets.iterrows():\n",
    "        itemset = list(row['itemsets'])\n",
    "        support = row['support']\n",
    "        G.add_edge(itemset[0], itemset[1], weight=support)\n",
    "    \n",
    "    # 绘制网络图\n",
    "    plt.figure(figsize=(12, 8))\n",
    "    pos = nx.spring_layout(G, k=0.5)\n",
    "    nx.draw_networkx(\n",
    "        G, pos, with_labels=True, node_size=50, font_size=8,\n",
    "        edge_color=[d['weight'] for u, v, d in G.edges(data=True)], \n",
    "        edge_cmap=plt.cm.Blues\n",
    "    )\n",
    "    plt.title(\"IPC Co-occurrence Network\")\n",
    "    \n",
    "    # 保存图表\n",
    "    plt.savefig(os.path.join(output_folder, \"ipc_co_occurrence_network.png\"), dpi=300)\n",
    "    plt.close()\n",
    "    \n",
    "    print(f\"共现网络图表已成功保存到 {output_folder}/ipc_co_occurrence_network.png\")\n",
    "    \n",
    "except Exception as e:\n",
    "    print(\"构建共现网络时出错:\", e)"
   ]
  },
  {
   "cell_type": "markdown",
   "metadata": {},
   "source": [
    "使用 Louvain 方法对共现网络进行社群划分。"
   ]
  },
  {
   "cell_type": "code",
   "execution_count": 6,
   "metadata": {},
   "outputs": [
    {
     "name": "stdout",
     "output_type": "stream",
     "text": [
      "社群划分结果已成功保存到 E:/solid-state patent data/新建文件夹/community_partition.csv\n"
     ]
    },
    {
     "name": "stderr",
     "output_type": "stream",
     "text": [
      "C:\\Users\\30558\\AppData\\Local\\Temp\\ipykernel_15752\\3651571433.py:17: MatplotlibDeprecationWarning: The get_cmap function was deprecated in Matplotlib 3.7 and will be removed in 3.11. Use ``matplotlib.colormaps[name]`` or ``matplotlib.colormaps.get_cmap()`` or ``pyplot.get_cmap()`` instead.\n",
      "  cmap = plt.cm.get_cmap('viridis', max(partition.values()) + 1)\n"
     ]
    },
    {
     "name": "stdout",
     "output_type": "stream",
     "text": [
      "社群划分图表已成功保存到 E:/solid-state patent data/新建文件夹/ipc_community_detection.png\n"
     ]
    }
   ],
   "source": [
    "from community import community_louvain\n",
    "\n",
    "try:\n",
    "    # 使用 Louvain 方法进行社群划分\n",
    "    partition = community_louvain.best_partition(G,resolution=2.0)\n",
    "    \n",
    "    \n",
    "    # 将社群信息保存到 CSV 文件\n",
    "    partition_df = pd.DataFrame(list(partition.items()), columns=['Node', 'Community'])\n",
    "    partition_df.to_csv(os.path.join(output_folder, \"community_partition.csv\"), index=False, encoding='utf-8')\n",
    "    \n",
    "    print(f\"社群划分结果已成功保存到 {output_folder}/community_partition.csv\")\n",
    "    \n",
    "    # 可视化社群划分\n",
    "    plt.figure(figsize=(12, 8))\n",
    "    pos = nx.spring_layout(G, k=0.5)\n",
    "    cmap = plt.cm.get_cmap('viridis', max(partition.values()) + 1)\n",
    "    nx.draw_networkx_nodes(G, pos, partition.keys(), node_size=50, cmap=cmap, node_color=list(partition.values()))\n",
    "    nx.draw_networkx_edges(G, pos, alpha=0.5)\n",
    "    plt.title(\"IPC Community Detection\")\n",
    "    \n",
    "    # 保存社群划分图表\n",
    "    plt.savefig(os.path.join(output_folder, \"ipc_community_detection.png\"), dpi=300)\n",
    "    plt.close()\n",
    "    \n",
    "    print(f\"社群划分图表已成功保存到 {output_folder}/ipc_community_detection.png\")\n",
    "    \n",
    "except Exception as e:\n",
    "    print(\"社群分析时出错:\", e)"
   ]
  },
  {
   "cell_type": "markdown",
   "metadata": {},
   "source": [
    "检查网络结构和节点情况"
   ]
  },
  {
   "cell_type": "code",
   "execution_count": 7,
   "metadata": {},
   "outputs": [],
   "source": [
    "# # 检查孤立节点\n",
    "# isolated_nodes = list(nx.isolates(G))\n",
    "# print(f\"孤立节点数量: {len(isolated_nodes)}\")\n",
    "# print(\"孤立节点:\", isolated_nodes)\n",
    "\n",
    "# # 检查每个节点的度\n",
    "# degrees = G.degree()\n",
    "# print(\"节点度分布:\")\n",
    "# for node, degree in degrees:\n",
    "#     print(f\"{node}: {degree}\")"
   ]
  },
  {
   "cell_type": "markdown",
   "metadata": {},
   "source": [
    "统计低连接节点"
   ]
  },
  {
   "cell_type": "code",
   "execution_count": 8,
   "metadata": {},
   "outputs": [],
   "source": [
    "# import networkx as nx\n",
    "\n",
    "# # 计算每个节点的度\n",
    "# degrees = dict(G.degree())\n",
    "\n",
    "# # 打印节点度分布\n",
    "# print(\"节点度分布:\")\n",
    "# for node, degree in degrees.items():\n",
    "#     print(f\"{node}: {degree}\")\n",
    "\n",
    "# # 筛选出低连接节点（例如度小于等于 2 的节点）\n",
    "# low_degree_nodes = [node for node, degree in degrees.items() if degree <= 2]\n",
    "# print(f\"低连接节点（度 <= 2）: {low_degree_nodes}\")"
   ]
  },
  {
   "cell_type": "markdown",
   "metadata": {},
   "source": [
    "移除低连接度节点"
   ]
  },
  {
   "cell_type": "code",
   "execution_count": 9,
   "metadata": {},
   "outputs": [],
   "source": [
    "# # 移除低连接节点\n",
    "# G_filtered = G.copy()\n",
    "# G_filtered.remove_nodes_from(low_degree_nodes)\n",
    "\n",
    "# # 检查移除后的网络结构\n",
    "# print(f\"移除前的节点数量: {len(G.nodes)}\")\n",
    "# print(f\"移除后的节点数量: {len(G_filtered.nodes)}\")\n",
    "\n",
    "# # 打印移除后的节点度分布\n",
    "# degrees_filtered = dict(G_filtered.degree())\n",
    "# print(\"优化后的节点度分布:\")\n",
    "# for node, degree in degrees_filtered.items():\n",
    "#     print(f\"{node}: {degree}\")"
   ]
  },
  {
   "cell_type": "markdown",
   "metadata": {},
   "source": [
    "可视化"
   ]
  },
  {
   "cell_type": "code",
   "execution_count": 10,
   "metadata": {},
   "outputs": [],
   "source": [
    "# import matplotlib.pyplot as plt\n",
    "\n",
    "# plt.figure(figsize=(12, 8))\n",
    "# pos = nx.spring_layout(G_filtered, k=0.5)\n",
    "# nx.draw_networkx(\n",
    "#     G_filtered, pos, with_labels=True, node_size=50, font_size=8,\n",
    "#     edge_color=[d['weight'] for u, v, d in G_filtered.edges(data=True)], \n",
    "#     edge_cmap=plt.cm.Blues\n",
    "# )\n",
    "# plt.title(\"Optimized IPC Co-occurrence Network\")\n",
    "# plt.savefig(os.path.join(output_folder, \"ipc_co_occurrence_network_optimized.png\"), dpi=300)\n",
    "# plt.close()\n",
    "\n",
    "# print(f\"优化后的共现网络图表已成功保存到 {output_folder}/ipc_co_occurrence_network_optimized.png\")"
   ]
  },
  {
   "cell_type": "markdown",
   "metadata": {},
   "source": [
    "更新共现矩阵"
   ]
  },
  {
   "cell_type": "code",
   "execution_count": 11,
   "metadata": {},
   "outputs": [],
   "source": [
    "# import pandas as pd\n",
    "\n",
    "# # 获取优化后的节点列表\n",
    "# all_ipcs_filtered = sorted(G_filtered.nodes)\n",
    "\n",
    "# # 初始化新的共现矩阵\n",
    "# co_occurrence_matrix_filtered = pd.DataFrame(0.0, index=all_ipcs_filtered, columns=all_ipcs_filtered, dtype=float)\n",
    "\n",
    "# # 填充共现矩阵\n",
    "# for _, row in frequent_2_itemsets.iterrows():\n",
    "#     itemset = list(row['itemsets'])\n",
    "#     support = row['support']\n",
    "#     if itemset[0] in all_ipcs_filtered and itemset[1] in all_ipcs_filtered:\n",
    "#         co_occurrence_matrix_filtered.at[itemset[0], itemset[1]] = support\n",
    "#         co_occurrence_matrix_filtered.at[itemset[1], itemset[0]] = support\n",
    "\n",
    "# # 保存优化后的共现矩阵\n",
    "# co_occurrence_matrix_filtered.to_csv(os.path.join(output_folder, \"co_occurrence_matrix_filtered.csv\"), encoding='utf-8')\n",
    "# print(f\"优化后的共现矩阵已成功保存到 {output_folder}/co_occurrence_matrix_filtered.csv\")"
   ]
  },
  {
   "cell_type": "markdown",
   "metadata": {},
   "source": [
    "重新社群划分"
   ]
  },
  {
   "cell_type": "code",
   "execution_count": 12,
   "metadata": {},
   "outputs": [],
   "source": [
    "# from community import community_louvain\n",
    "\n",
    "# try:\n",
    "#     # 使用 Louvain 方法进行社群划分\n",
    "#     partition_filtered = community_louvain.best_partition(G_filtered, resolution=1.0)\n",
    "    \n",
    "#     # 将社群信息保存到 CSV 文件\n",
    "#     partition_df_filtered = pd.DataFrame(list(partition_filtered.items()), columns=['Node', 'Community'])\n",
    "#     partition_df_filtered.to_csv(os.path.join(output_folder, \"community_partition_filtered.csv\"), index=False, encoding='utf-8')\n",
    "    \n",
    "#     print(f\"优化后的社群划分结果已成功保存到 {output_folder}/community_partition_filtered.csv\")\n",
    "    \n",
    "#     # 可视化优化后的社群划分\n",
    "#     plt.figure(figsize=(12, 8))\n",
    "#     pos = nx.spring_layout(G_filtered, k=0.5)\n",
    "#     cmap = plt.colormaps['viridis'].resampled(max(partition_filtered.values()) + 1)\n",
    "#     nx.draw_networkx_nodes(G_filtered, pos, partition_filtered.keys(), node_size=50, cmap=cmap, node_color=list(partition_filtered.values()))\n",
    "#     nx.draw_networkx_edges(G_filtered, pos, alpha=0.5)\n",
    "#     plt.title(\"Optimized IPC Community Detection\")\n",
    "    \n",
    "#     # 保存优化后的社群划分图表\n",
    "#     plt.savefig(os.path.join(output_folder, \"ipc_community_detection_filtered.png\"), dpi=300)\n",
    "#     plt.close()\n",
    "    \n",
    "#     print(f\"优化后的社群划分图表已成功保存到 {output_folder}/ipc_community_detection_filtered.png\")\n",
    "    \n",
    "# except Exception as e:\n",
    "#     print(\"优化后的社群分析时出错:\", e)"
   ]
  }
 ],
 "metadata": {
  "kernelspec": {
   "display_name": "Python 3",
   "language": "python",
   "name": "python3"
  },
  "language_info": {
   "codemirror_mode": {
    "name": "ipython",
    "version": 3
   },
   "file_extension": ".py",
   "mimetype": "text/x-python",
   "name": "python",
   "nbconvert_exporter": "python",
   "pygments_lexer": "ipython3",
   "version": "3.9.12"
  }
 },
 "nbformat": 4,
 "nbformat_minor": 2
}
