{
 "cells": [
  {
   "cell_type": "markdown",
   "metadata": {},
   "source": [
    "0. 导入库"
   ]
  },
  {
   "cell_type": "code",
   "execution_count": 3,
   "metadata": {},
   "outputs": [],
   "source": [
    "# 数据处理和分析相关库\n",
    "import os\n",
    "import pandas as pd\n",
    "import numpy as np\n",
    "\n",
    "# 网络分析相关库\n",
    "import networkx as nx\n",
    "\n",
    "# 可视化相关库\n",
    "import matplotlib.pyplot as plt\n",
    "import seaborn as sns\n",
    "from itertools import combinations\n",
    "\n",
    "# 其他工具库\n",
    "from sklearn.metrics.pairwise import cosine_similarity\n",
    "# 定义输入和输出路径\n",
    "input_folder = \"E:/solid-state patent data/新建文件夹\"  # 输入文件夹路径\n",
    "output_folder = \"E:/solid-state patent data/新建文件夹\"  # 输出文件夹路径\n",
    "\n",
    "# 如果输出文件夹不存在，则创建\n",
    "os.makedirs(output_folder, exist_ok=True)"
   ]
  },
  {
   "cell_type": "markdown",
   "metadata": {},
   "source": [
    "1.1 计算社群间的 Jaccard 系数\n",
    "Jaccard 系数用于衡量两个社群之间的相似度，定义为：\n",
    "\n",
    "J(A,B)= \n",
    "∣A∪B∣\n",
    "∣A∩B∣\n",
    "​\n",
    " \n",
    "其中 A 和 B 是两个社群的专利集合。"
   ]
  },
  {
   "cell_type": "code",
   "execution_count": 4,
   "metadata": {},
   "outputs": [
    {
     "name": "stdout",
     "output_type": "stream",
     "text": [
      "Jaccard 系数已保存到 jaccard_coefficients.csv\n"
     ]
    }
   ],
   "source": [
    "from itertools import combinations\n",
    "\n",
    "# 加载社群划分结果\n",
    "community_partition_path = os.path.join(input_folder, \"community_partition.csv\")\n",
    "#确定是filtered吗？\n",
    "partition_df = pd.read_csv(community_partition_path)\n",
    "\n",
    "# 构建每个社群的专利集合\n",
    "community_patents = {}\n",
    "for community_id, group in partition_df.groupby(\"Community\"):\n",
    "    community_patents[community_id] = set(group[\"Node\"])\n",
    "\n",
    "# 计算社群间的 Jaccard 系数\n",
    "jaccard_matrix = {}\n",
    "for (comm_a, patents_a), (comm_b, patents_b) in combinations(community_patents.items(), 2):\n",
    "    intersection = len(patents_a & patents_b)\n",
    "    union = len(patents_a | patents_b)\n",
    "    jaccard_coefficient = intersection / union if union > 0 else 0\n",
    "    jaccard_matrix[(comm_a, comm_b)] = jaccard_coefficient\n",
    "\n",
    "# 转换为 DataFrame 格式\n",
    "jaccard_df = pd.DataFrame(\n",
    "    [(k[0], k[1], v) for k, v in jaccard_matrix.items()],\n",
    "    columns=[\"Community_A\", \"Community_B\", \"Jaccard_Coefficient\"]\n",
    ")\n",
    "jaccard_df.to_csv(os.path.join(output_folder, \"jaccard_coefficients.csv\"), index=False)\n",
    "print(\"Jaccard 系数已保存到 jaccard_coefficients.csv\")"
   ]
  },
  {
   "cell_type": "markdown",
   "metadata": {},
   "source": [
    "1.2 计算社群的平均聚类系数\n",
    "使用 NetworkX 计算每个社群的平均聚类系数，衡量社群内部的紧密程度。"
   ]
  },
  {
   "cell_type": "code",
   "execution_count": 6,
   "metadata": {},
   "outputs": [
    {
     "name": "stdout",
     "output_type": "stream",
     "text": [
      "平均聚类系数:\n",
      "   Community  Average_Clustering_Coefficient\n",
      "0          0                        0.900000\n",
      "1          1                        0.000000\n",
      "2          2                        0.000000\n",
      "3          3                        0.000000\n",
      "4          4                        0.433333\n",
      "5          5                        0.000000\n",
      "6          6                        0.000000\n",
      "7          7                        0.000000\n",
      "8          8                        0.000000\n",
      "9          9                        0.000000\n"
     ]
    }
   ],
   "source": [
    "# 计算每个社群的平均聚类系数\n",
    "clustering_coefficients = {}\n",
    "for community_id, patents in community_patents.items():\n",
    "    subgraph = G.subgraph(patents)\n",
    "    \n",
    "    # 检查子图是否满足条件\n",
    "    if subgraph.number_of_nodes() > 1 and subgraph.number_of_edges() > 0:\n",
    "        try:\n",
    "            clustering_coefficients[community_id] = nx.average_clustering(subgraph)\n",
    "        except ZeroDivisionError:\n",
    "            clustering_coefficients[community_id] = 0  # 如果计算失败，设为 0\n",
    "    else:\n",
    "        clustering_coefficients[community_id] = 0  # 如果子图过于稀疏，设为 0\n",
    "\n",
    "# 转换为 DataFrame 格式\n",
    "clustering_df = pd.DataFrame(\n",
    "    list(clustering_coefficients.items()),\n",
    "    columns=[\"Community\", \"Average_Clustering_Coefficient\"]\n",
    ")\n",
    "\n",
    "# 打印结果\n",
    "print(\"平均聚类系数:\")\n",
    "print(clustering_df)"
   ]
  },
  {
   "cell_type": "markdown",
   "metadata": {},
   "source": [
    "2. 技术融合价值评估\n",
    "2.1 构建评价指标\n",
    "从以下三个方面构建技术融合价值评估指标：\n",
    "\n",
    "当前技术融合程度 ：使用 Jaccard 系数表示。\n",
    "IPC 技术距离 ：通过计算两个社群的中心节点之间的最短路径长度。\n",
    "技术中心性 ：使用社群中所有节点的 PageRank 值的平均值。"
   ]
  },
  {
   "cell_type": "code",
   "execution_count": null,
   "metadata": {},
   "outputs": [],
   "source": []
  },
  {
   "cell_type": "code",
   "execution_count": 7,
   "metadata": {},
   "outputs": [
    {
     "ename": "NodeNotFound",
     "evalue": "Either source C08J or target C25D is not in G",
     "output_type": "error",
     "traceback": [
      "\u001b[1;31m---------------------------------------------------------------------------\u001b[0m",
      "\u001b[1;31mNodeNotFound\u001b[0m                              Traceback (most recent call last)",
      "Cell \u001b[1;32mIn[7], line 8\u001b[0m\n\u001b[0;32m      6\u001b[0m \u001b[38;5;28;01mfor\u001b[39;00m node_b \u001b[38;5;129;01min\u001b[39;00m patents_b:\n\u001b[0;32m      7\u001b[0m     \u001b[38;5;28;01mtry\u001b[39;00m:\n\u001b[1;32m----> 8\u001b[0m         distance \u001b[38;5;241m=\u001b[39m \u001b[43mnx\u001b[49m\u001b[38;5;241;43m.\u001b[39;49m\u001b[43mshortest_path_length\u001b[49m\u001b[43m(\u001b[49m\u001b[43mG\u001b[49m\u001b[43m,\u001b[49m\u001b[43m \u001b[49m\u001b[43msource\u001b[49m\u001b[38;5;241;43m=\u001b[39;49m\u001b[43mnode_a\u001b[49m\u001b[43m,\u001b[49m\u001b[43m \u001b[49m\u001b[43mtarget\u001b[49m\u001b[38;5;241;43m=\u001b[39;49m\u001b[43mnode_b\u001b[49m\u001b[43m)\u001b[49m\n\u001b[0;32m      9\u001b[0m         min_distance \u001b[38;5;241m=\u001b[39m \u001b[38;5;28mmin\u001b[39m(min_distance, distance)\n\u001b[0;32m     10\u001b[0m     \u001b[38;5;28;01mexcept\u001b[39;00m nx\u001b[38;5;241m.\u001b[39mNetworkXNoPath:\n",
      "File \u001b[1;32mc:\\Users\\30558\\AppData\\Local\\Programs\\Python\\Python39\\lib\\site-packages\\networkx\\utils\\backends.py:412\u001b[0m, in \u001b[0;36m_dispatch.__call__\u001b[1;34m(self, backend, *args, **kwargs)\u001b[0m\n\u001b[0;32m    409\u001b[0m \u001b[38;5;28;01mdef\u001b[39;00m\u001b[38;5;250m \u001b[39m\u001b[38;5;21m__call__\u001b[39m(\u001b[38;5;28mself\u001b[39m, \u001b[38;5;241m/\u001b[39m, \u001b[38;5;241m*\u001b[39margs, backend\u001b[38;5;241m=\u001b[39m\u001b[38;5;28;01mNone\u001b[39;00m, \u001b[38;5;241m*\u001b[39m\u001b[38;5;241m*\u001b[39mkwargs):\n\u001b[0;32m    410\u001b[0m     \u001b[38;5;28;01mif\u001b[39;00m \u001b[38;5;129;01mnot\u001b[39;00m backends:\n\u001b[0;32m    411\u001b[0m         \u001b[38;5;66;03m# Fast path if no backends are installed\u001b[39;00m\n\u001b[1;32m--> 412\u001b[0m         \u001b[38;5;28;01mreturn\u001b[39;00m \u001b[38;5;28mself\u001b[39m\u001b[38;5;241m.\u001b[39morig_func(\u001b[38;5;241m*\u001b[39margs, \u001b[38;5;241m*\u001b[39m\u001b[38;5;241m*\u001b[39mkwargs)\n\u001b[0;32m    414\u001b[0m     \u001b[38;5;66;03m# Use `backend_name` in this function instead of `backend`\u001b[39;00m\n\u001b[0;32m    415\u001b[0m     backend_name \u001b[38;5;241m=\u001b[39m backend\n",
      "File \u001b[1;32mc:\\Users\\30558\\AppData\\Local\\Programs\\Python\\Python39\\lib\\site-packages\\networkx\\algorithms\\shortest_paths\\generic.py:316\u001b[0m, in \u001b[0;36mshortest_path_length\u001b[1;34m(G, source, target, weight, method)\u001b[0m\n\u001b[0;32m    313\u001b[0m \u001b[38;5;28;01melse\u001b[39;00m:\n\u001b[0;32m    314\u001b[0m     \u001b[38;5;66;03m# Find shortest source-target path.\u001b[39;00m\n\u001b[0;32m    315\u001b[0m     \u001b[38;5;28;01mif\u001b[39;00m method \u001b[38;5;241m==\u001b[39m \u001b[38;5;124m\"\u001b[39m\u001b[38;5;124munweighted\u001b[39m\u001b[38;5;124m\"\u001b[39m:\n\u001b[1;32m--> 316\u001b[0m         p \u001b[38;5;241m=\u001b[39m \u001b[43mnx\u001b[49m\u001b[38;5;241;43m.\u001b[39;49m\u001b[43mbidirectional_shortest_path\u001b[49m\u001b[43m(\u001b[49m\u001b[43mG\u001b[49m\u001b[43m,\u001b[49m\u001b[43m \u001b[49m\u001b[43msource\u001b[49m\u001b[43m,\u001b[49m\u001b[43m \u001b[49m\u001b[43mtarget\u001b[49m\u001b[43m)\u001b[49m\n\u001b[0;32m    317\u001b[0m         paths \u001b[38;5;241m=\u001b[39m \u001b[38;5;28mlen\u001b[39m(p) \u001b[38;5;241m-\u001b[39m \u001b[38;5;241m1\u001b[39m\n\u001b[0;32m    318\u001b[0m     \u001b[38;5;28;01melif\u001b[39;00m method \u001b[38;5;241m==\u001b[39m \u001b[38;5;124m\"\u001b[39m\u001b[38;5;124mdijkstra\u001b[39m\u001b[38;5;124m\"\u001b[39m:\n",
      "File \u001b[1;32mc:\\Users\\30558\\AppData\\Local\\Programs\\Python\\Python39\\lib\\site-packages\\networkx\\utils\\backends.py:412\u001b[0m, in \u001b[0;36m_dispatch.__call__\u001b[1;34m(self, backend, *args, **kwargs)\u001b[0m\n\u001b[0;32m    409\u001b[0m \u001b[38;5;28;01mdef\u001b[39;00m\u001b[38;5;250m \u001b[39m\u001b[38;5;21m__call__\u001b[39m(\u001b[38;5;28mself\u001b[39m, \u001b[38;5;241m/\u001b[39m, \u001b[38;5;241m*\u001b[39margs, backend\u001b[38;5;241m=\u001b[39m\u001b[38;5;28;01mNone\u001b[39;00m, \u001b[38;5;241m*\u001b[39m\u001b[38;5;241m*\u001b[39mkwargs):\n\u001b[0;32m    410\u001b[0m     \u001b[38;5;28;01mif\u001b[39;00m \u001b[38;5;129;01mnot\u001b[39;00m backends:\n\u001b[0;32m    411\u001b[0m         \u001b[38;5;66;03m# Fast path if no backends are installed\u001b[39;00m\n\u001b[1;32m--> 412\u001b[0m         \u001b[38;5;28;01mreturn\u001b[39;00m \u001b[38;5;28mself\u001b[39m\u001b[38;5;241m.\u001b[39morig_func(\u001b[38;5;241m*\u001b[39margs, \u001b[38;5;241m*\u001b[39m\u001b[38;5;241m*\u001b[39mkwargs)\n\u001b[0;32m    414\u001b[0m     \u001b[38;5;66;03m# Use `backend_name` in this function instead of `backend`\u001b[39;00m\n\u001b[0;32m    415\u001b[0m     backend_name \u001b[38;5;241m=\u001b[39m backend\n",
      "File \u001b[1;32mc:\\Users\\30558\\AppData\\Local\\Programs\\Python\\Python39\\lib\\site-packages\\networkx\\algorithms\\shortest_paths\\unweighted.py:238\u001b[0m, in \u001b[0;36mbidirectional_shortest_path\u001b[1;34m(G, source, target)\u001b[0m\n\u001b[0;32m    236\u001b[0m \u001b[38;5;28;01mif\u001b[39;00m source \u001b[38;5;129;01mnot\u001b[39;00m \u001b[38;5;129;01min\u001b[39;00m G \u001b[38;5;129;01mor\u001b[39;00m target \u001b[38;5;129;01mnot\u001b[39;00m \u001b[38;5;129;01min\u001b[39;00m G:\n\u001b[0;32m    237\u001b[0m     msg \u001b[38;5;241m=\u001b[39m \u001b[38;5;124mf\u001b[39m\u001b[38;5;124m\"\u001b[39m\u001b[38;5;124mEither source \u001b[39m\u001b[38;5;132;01m{\u001b[39;00msource\u001b[38;5;132;01m}\u001b[39;00m\u001b[38;5;124m or target \u001b[39m\u001b[38;5;132;01m{\u001b[39;00mtarget\u001b[38;5;132;01m}\u001b[39;00m\u001b[38;5;124m is not in G\u001b[39m\u001b[38;5;124m\"\u001b[39m\n\u001b[1;32m--> 238\u001b[0m     \u001b[38;5;28;01mraise\u001b[39;00m nx\u001b[38;5;241m.\u001b[39mNodeNotFound(msg)\n\u001b[0;32m    240\u001b[0m \u001b[38;5;66;03m# call helper to do the real work\u001b[39;00m\n\u001b[0;32m    241\u001b[0m results \u001b[38;5;241m=\u001b[39m _bidirectional_pred_succ(G, source, target)\n",
      "\u001b[1;31mNodeNotFound\u001b[0m: Either source C08J or target C25D is not in G"
     ]
    }
   ],
   "source": [
    "# 计算 IPC 技术距离\n",
    "ipc_distances = {}\n",
    "for (comm_a, patents_a), (comm_b, patents_b) in combinations(community_patents.items(), 2):\n",
    "    min_distance = float(\"inf\")\n",
    "    for node_a in patents_a:\n",
    "        for node_b in patents_b:\n",
    "            try:\n",
    "                distance = nx.shortest_path_length(G, source=node_a, target=node_b)\n",
    "                min_distance = min(min_distance, distance)\n",
    "            except nx.NetworkXNoPath:\n",
    "                continue\n",
    "    ipc_distances[(comm_a, comm_b)] = min_distance if min_distance < float(\"inf\") else None\n",
    "\n",
    "# 计算技术中心性\n",
    "pagerank_scores = nx.pagerank(G)\n",
    "community_centralities = {}\n",
    "for community_id, patents in community_patents.items():\n",
    "    centrality = np.mean([pagerank_scores[node] for node in patents if node in pagerank_scores])\n",
    "    community_centralities[community_id] = centrality\n",
    "\n",
    "# 构建技术融合价值评估表\n",
    "fusion_value_data = []\n",
    "for (comm_a, comm_b), jaccard in jaccard_matrix.items():\n",
    "    fusion_degree = jaccard\n",
    "    ipc_distance = ipc_distances.get((comm_a, comm_b), None)\n",
    "    centrality_a = community_centralities.get(comm_a, 0)\n",
    "    centrality_b = community_centralities.get(comm_b, 0)\n",
    "    centrality = (centrality_a + centrality_b) / 2\n",
    "    fusion_value = fusion_degree * (1 / ipc_distance if ipc_distance else 0) * centrality\n",
    "    fusion_value_data.append([comm_a, comm_b, fusion_degree, ipc_distance, centrality, fusion_value])\n",
    "\n",
    "fusion_value_df = pd.DataFrame(\n",
    "    fusion_value_data,\n",
    "    columns=[\"Community_A\", \"Community_B\", \"Fusion_Degree\", \"IPC_Distance\", \"Centrality\", \"Fusion_Value\"]\n",
    ")\n",
    "fusion_value_df.to_csv(os.path.join(output_folder, \"fusion_value_assessment.csv\"), index=False)\n",
    "print(\"技术融合价值评估结果已保存到 fusion_value_assessment.csv\")"
   ]
  },
  {
   "cell_type": "markdown",
   "metadata": {},
   "source": [
    "3. 可视化结果\n",
    "3.1 社群间 Jaccard 系数热力图"
   ]
  },
  {
   "cell_type": "code",
   "execution_count": null,
   "metadata": {},
   "outputs": [
    {
     "name": "stderr",
     "output_type": "stream",
     "text": [
      "C:\\Users\\30558\\AppData\\Local\\Temp\\ipykernel_32436\\2589183167.py:15: UserWarning: Glyph 25216 (\\N{CJK UNIFIED IDEOGRAPH-6280}) missing from font(s) DejaVu Sans.\n",
      "  plt.savefig(os.path.join(output_folder, \"fusion_value_scatterplot.png\"), dpi=300)\n",
      "C:\\Users\\30558\\AppData\\Local\\Temp\\ipykernel_32436\\2589183167.py:15: UserWarning: Glyph 26415 (\\N{CJK UNIFIED IDEOGRAPH-672F}) missing from font(s) DejaVu Sans.\n",
      "  plt.savefig(os.path.join(output_folder, \"fusion_value_scatterplot.png\"), dpi=300)\n",
      "C:\\Users\\30558\\AppData\\Local\\Temp\\ipykernel_32436\\2589183167.py:15: UserWarning: Glyph 36317 (\\N{CJK UNIFIED IDEOGRAPH-8DDD}) missing from font(s) DejaVu Sans.\n",
      "  plt.savefig(os.path.join(output_folder, \"fusion_value_scatterplot.png\"), dpi=300)\n",
      "C:\\Users\\30558\\AppData\\Local\\Temp\\ipykernel_32436\\2589183167.py:15: UserWarning: Glyph 31163 (\\N{CJK UNIFIED IDEOGRAPH-79BB}) missing from font(s) DejaVu Sans.\n",
      "  plt.savefig(os.path.join(output_folder, \"fusion_value_scatterplot.png\"), dpi=300)\n",
      "C:\\Users\\30558\\AppData\\Local\\Temp\\ipykernel_32436\\2589183167.py:15: UserWarning: Glyph 34701 (\\N{CJK UNIFIED IDEOGRAPH-878D}) missing from font(s) DejaVu Sans.\n",
      "  plt.savefig(os.path.join(output_folder, \"fusion_value_scatterplot.png\"), dpi=300)\n",
      "C:\\Users\\30558\\AppData\\Local\\Temp\\ipykernel_32436\\2589183167.py:15: UserWarning: Glyph 21512 (\\N{CJK UNIFIED IDEOGRAPH-5408}) missing from font(s) DejaVu Sans.\n",
      "  plt.savefig(os.path.join(output_folder, \"fusion_value_scatterplot.png\"), dpi=300)\n",
      "C:\\Users\\30558\\AppData\\Local\\Temp\\ipykernel_32436\\2589183167.py:15: UserWarning: Glyph 20215 (\\N{CJK UNIFIED IDEOGRAPH-4EF7}) missing from font(s) DejaVu Sans.\n",
      "  plt.savefig(os.path.join(output_folder, \"fusion_value_scatterplot.png\"), dpi=300)\n",
      "C:\\Users\\30558\\AppData\\Local\\Temp\\ipykernel_32436\\2589183167.py:15: UserWarning: Glyph 20540 (\\N{CJK UNIFIED IDEOGRAPH-503C}) missing from font(s) DejaVu Sans.\n",
      "  plt.savefig(os.path.join(output_folder, \"fusion_value_scatterplot.png\"), dpi=300)\n",
      "C:\\Users\\30558\\AppData\\Local\\Temp\\ipykernel_32436\\2589183167.py:15: UserWarning: Glyph 35780 (\\N{CJK UNIFIED IDEOGRAPH-8BC4}) missing from font(s) DejaVu Sans.\n",
      "  plt.savefig(os.path.join(output_folder, \"fusion_value_scatterplot.png\"), dpi=300)\n",
      "C:\\Users\\30558\\AppData\\Local\\Temp\\ipykernel_32436\\2589183167.py:15: UserWarning: Glyph 20272 (\\N{CJK UNIFIED IDEOGRAPH-4F30}) missing from font(s) DejaVu Sans.\n",
      "  plt.savefig(os.path.join(output_folder, \"fusion_value_scatterplot.png\"), dpi=300)\n",
      "C:\\Users\\30558\\AppData\\Local\\Temp\\ipykernel_32436\\2589183167.py:15: UserWarning: Glyph 25955 (\\N{CJK UNIFIED IDEOGRAPH-6563}) missing from font(s) DejaVu Sans.\n",
      "  plt.savefig(os.path.join(output_folder, \"fusion_value_scatterplot.png\"), dpi=300)\n",
      "C:\\Users\\30558\\AppData\\Local\\Temp\\ipykernel_32436\\2589183167.py:15: UserWarning: Glyph 28857 (\\N{CJK UNIFIED IDEOGRAPH-70B9}) missing from font(s) DejaVu Sans.\n",
      "  plt.savefig(os.path.join(output_folder, \"fusion_value_scatterplot.png\"), dpi=300)\n",
      "C:\\Users\\30558\\AppData\\Local\\Temp\\ipykernel_32436\\2589183167.py:15: UserWarning: Glyph 22270 (\\N{CJK UNIFIED IDEOGRAPH-56FE}) missing from font(s) DejaVu Sans.\n",
      "  plt.savefig(os.path.join(output_folder, \"fusion_value_scatterplot.png\"), dpi=300)\n",
      "C:\\Users\\30558\\AppData\\Local\\Temp\\ipykernel_32436\\2589183167.py:15: UserWarning: Glyph 24403 (\\N{CJK UNIFIED IDEOGRAPH-5F53}) missing from font(s) DejaVu Sans.\n",
      "  plt.savefig(os.path.join(output_folder, \"fusion_value_scatterplot.png\"), dpi=300)\n",
      "C:\\Users\\30558\\AppData\\Local\\Temp\\ipykernel_32436\\2589183167.py:15: UserWarning: Glyph 21069 (\\N{CJK UNIFIED IDEOGRAPH-524D}) missing from font(s) DejaVu Sans.\n",
      "  plt.savefig(os.path.join(output_folder, \"fusion_value_scatterplot.png\"), dpi=300)\n",
      "C:\\Users\\30558\\AppData\\Local\\Temp\\ipykernel_32436\\2589183167.py:15: UserWarning: Glyph 31243 (\\N{CJK UNIFIED IDEOGRAPH-7A0B}) missing from font(s) DejaVu Sans.\n",
      "  plt.savefig(os.path.join(output_folder, \"fusion_value_scatterplot.png\"), dpi=300)\n",
      "C:\\Users\\30558\\AppData\\Local\\Temp\\ipykernel_32436\\2589183167.py:15: UserWarning: Glyph 24230 (\\N{CJK UNIFIED IDEOGRAPH-5EA6}) missing from font(s) DejaVu Sans.\n",
      "  plt.savefig(os.path.join(output_folder, \"fusion_value_scatterplot.png\"), dpi=300)\n"
     ]
    },
    {
     "name": "stdout",
     "output_type": "stream",
     "text": [
      "技术融合价值散点图已保存到 fusion_value_scatterplot.png\n"
     ]
    }
   ],
   "source": [
    "# 绘制散点图\n",
    "plt.figure(figsize=(10, 8))\n",
    "scatter = plt.scatter(\n",
    "    fusion_value_df[\"Fusion_Degree\"],\n",
    "    fusion_value_df[\"IPC_Distance\"],\n",
    "    s=fusion_value_df[\"Centrality\"] * 1000,  # 气泡大小\n",
    "    c=fusion_value_df[\"Fusion_Value\"],       # 颜色表示融合价值\n",
    "    cmap=\"coolwarm\",\n",
    "    alpha=0.7\n",
    ")\n",
    "plt.colorbar(scatter, label=\"Fusion Value\")\n",
    "plt.xlabel(\"当前技术融合程度\")\n",
    "plt.ylabel(\"IPC 技术距离\")\n",
    "plt.title(\"技术融合价值评估散点图\")\n",
    "plt.savefig(os.path.join(output_folder, \"fusion_value_scatterplot.png\"), dpi=300)\n",
    "plt.close()\n",
    "print(\"技术融合价值散点图已保存到 fusion_value_scatterplot.png\")"
   ]
  },
  {
   "cell_type": "markdown",
   "metadata": {},
   "source": [
    "3.2 技术融合价值散点图"
   ]
  },
  {
   "cell_type": "code",
   "execution_count": null,
   "metadata": {},
   "outputs": [
    {
     "name": "stderr",
     "output_type": "stream",
     "text": [
      "C:\\Users\\30558\\AppData\\Local\\Temp\\ipykernel_32436\\2589183167.py:15: UserWarning: Glyph 25216 (\\N{CJK UNIFIED IDEOGRAPH-6280}) missing from font(s) DejaVu Sans.\n",
      "  plt.savefig(os.path.join(output_folder, \"fusion_value_scatterplot.png\"), dpi=300)\n",
      "C:\\Users\\30558\\AppData\\Local\\Temp\\ipykernel_32436\\2589183167.py:15: UserWarning: Glyph 26415 (\\N{CJK UNIFIED IDEOGRAPH-672F}) missing from font(s) DejaVu Sans.\n",
      "  plt.savefig(os.path.join(output_folder, \"fusion_value_scatterplot.png\"), dpi=300)\n",
      "C:\\Users\\30558\\AppData\\Local\\Temp\\ipykernel_32436\\2589183167.py:15: UserWarning: Glyph 36317 (\\N{CJK UNIFIED IDEOGRAPH-8DDD}) missing from font(s) DejaVu Sans.\n",
      "  plt.savefig(os.path.join(output_folder, \"fusion_value_scatterplot.png\"), dpi=300)\n",
      "C:\\Users\\30558\\AppData\\Local\\Temp\\ipykernel_32436\\2589183167.py:15: UserWarning: Glyph 31163 (\\N{CJK UNIFIED IDEOGRAPH-79BB}) missing from font(s) DejaVu Sans.\n",
      "  plt.savefig(os.path.join(output_folder, \"fusion_value_scatterplot.png\"), dpi=300)\n",
      "C:\\Users\\30558\\AppData\\Local\\Temp\\ipykernel_32436\\2589183167.py:15: UserWarning: Glyph 34701 (\\N{CJK UNIFIED IDEOGRAPH-878D}) missing from font(s) DejaVu Sans.\n",
      "  plt.savefig(os.path.join(output_folder, \"fusion_value_scatterplot.png\"), dpi=300)\n",
      "C:\\Users\\30558\\AppData\\Local\\Temp\\ipykernel_32436\\2589183167.py:15: UserWarning: Glyph 21512 (\\N{CJK UNIFIED IDEOGRAPH-5408}) missing from font(s) DejaVu Sans.\n",
      "  plt.savefig(os.path.join(output_folder, \"fusion_value_scatterplot.png\"), dpi=300)\n",
      "C:\\Users\\30558\\AppData\\Local\\Temp\\ipykernel_32436\\2589183167.py:15: UserWarning: Glyph 20215 (\\N{CJK UNIFIED IDEOGRAPH-4EF7}) missing from font(s) DejaVu Sans.\n",
      "  plt.savefig(os.path.join(output_folder, \"fusion_value_scatterplot.png\"), dpi=300)\n",
      "C:\\Users\\30558\\AppData\\Local\\Temp\\ipykernel_32436\\2589183167.py:15: UserWarning: Glyph 20540 (\\N{CJK UNIFIED IDEOGRAPH-503C}) missing from font(s) DejaVu Sans.\n",
      "  plt.savefig(os.path.join(output_folder, \"fusion_value_scatterplot.png\"), dpi=300)\n",
      "C:\\Users\\30558\\AppData\\Local\\Temp\\ipykernel_32436\\2589183167.py:15: UserWarning: Glyph 35780 (\\N{CJK UNIFIED IDEOGRAPH-8BC4}) missing from font(s) DejaVu Sans.\n",
      "  plt.savefig(os.path.join(output_folder, \"fusion_value_scatterplot.png\"), dpi=300)\n",
      "C:\\Users\\30558\\AppData\\Local\\Temp\\ipykernel_32436\\2589183167.py:15: UserWarning: Glyph 20272 (\\N{CJK UNIFIED IDEOGRAPH-4F30}) missing from font(s) DejaVu Sans.\n",
      "  plt.savefig(os.path.join(output_folder, \"fusion_value_scatterplot.png\"), dpi=300)\n",
      "C:\\Users\\30558\\AppData\\Local\\Temp\\ipykernel_32436\\2589183167.py:15: UserWarning: Glyph 25955 (\\N{CJK UNIFIED IDEOGRAPH-6563}) missing from font(s) DejaVu Sans.\n",
      "  plt.savefig(os.path.join(output_folder, \"fusion_value_scatterplot.png\"), dpi=300)\n",
      "C:\\Users\\30558\\AppData\\Local\\Temp\\ipykernel_32436\\2589183167.py:15: UserWarning: Glyph 28857 (\\N{CJK UNIFIED IDEOGRAPH-70B9}) missing from font(s) DejaVu Sans.\n",
      "  plt.savefig(os.path.join(output_folder, \"fusion_value_scatterplot.png\"), dpi=300)\n",
      "C:\\Users\\30558\\AppData\\Local\\Temp\\ipykernel_32436\\2589183167.py:15: UserWarning: Glyph 22270 (\\N{CJK UNIFIED IDEOGRAPH-56FE}) missing from font(s) DejaVu Sans.\n",
      "  plt.savefig(os.path.join(output_folder, \"fusion_value_scatterplot.png\"), dpi=300)\n",
      "C:\\Users\\30558\\AppData\\Local\\Temp\\ipykernel_32436\\2589183167.py:15: UserWarning: Glyph 24403 (\\N{CJK UNIFIED IDEOGRAPH-5F53}) missing from font(s) DejaVu Sans.\n",
      "  plt.savefig(os.path.join(output_folder, \"fusion_value_scatterplot.png\"), dpi=300)\n",
      "C:\\Users\\30558\\AppData\\Local\\Temp\\ipykernel_32436\\2589183167.py:15: UserWarning: Glyph 21069 (\\N{CJK UNIFIED IDEOGRAPH-524D}) missing from font(s) DejaVu Sans.\n",
      "  plt.savefig(os.path.join(output_folder, \"fusion_value_scatterplot.png\"), dpi=300)\n",
      "C:\\Users\\30558\\AppData\\Local\\Temp\\ipykernel_32436\\2589183167.py:15: UserWarning: Glyph 31243 (\\N{CJK UNIFIED IDEOGRAPH-7A0B}) missing from font(s) DejaVu Sans.\n",
      "  plt.savefig(os.path.join(output_folder, \"fusion_value_scatterplot.png\"), dpi=300)\n",
      "C:\\Users\\30558\\AppData\\Local\\Temp\\ipykernel_32436\\2589183167.py:15: UserWarning: Glyph 24230 (\\N{CJK UNIFIED IDEOGRAPH-5EA6}) missing from font(s) DejaVu Sans.\n",
      "  plt.savefig(os.path.join(output_folder, \"fusion_value_scatterplot.png\"), dpi=300)\n"
     ]
    },
    {
     "name": "stdout",
     "output_type": "stream",
     "text": [
      "技术融合价值散点图已保存到 fusion_value_scatterplot.png\n"
     ]
    }
   ],
   "source": [
    "# 绘制散点图\n",
    "plt.figure(figsize=(10, 8))\n",
    "scatter = plt.scatter(\n",
    "    fusion_value_df[\"Fusion_Degree\"],\n",
    "    fusion_value_df[\"IPC_Distance\"],\n",
    "    s=fusion_value_df[\"Centrality\"] * 1000,  # 气泡大小\n",
    "    c=fusion_value_df[\"Fusion_Value\"],       # 颜色表示融合价值\n",
    "    cmap=\"coolwarm\",\n",
    "    alpha=0.7\n",
    ")\n",
    "plt.colorbar(scatter, label=\"Fusion Value\")\n",
    "plt.xlabel(\"当前技术融合程度\")\n",
    "plt.ylabel(\"IPC 技术距离\")\n",
    "plt.title(\"技术融合价值评估散点图\")\n",
    "plt.savefig(os.path.join(output_folder, \"fusion_value_scatterplot.png\"), dpi=300)\n",
    "plt.close()\n",
    "print(\"技术融合价值散点图已保存到 fusion_value_scatterplot.png\")"
   ]
  },
  {
   "cell_type": "markdown",
   "metadata": {},
   "source": []
  },
  {
   "cell_type": "code",
   "execution_count": null,
   "metadata": {},
   "outputs": [],
   "source": []
  }
 ],
 "metadata": {
  "kernelspec": {
   "display_name": "Python 3",
   "language": "python",
   "name": "python3"
  },
  "language_info": {
   "codemirror_mode": {
    "name": "ipython",
    "version": 3
   },
   "file_extension": ".py",
   "mimetype": "text/x-python",
   "name": "python",
   "nbconvert_exporter": "python",
   "pygments_lexer": "ipython3",
   "version": "3.9.12"
  }
 },
 "nbformat": 4,
 "nbformat_minor": 2
}
