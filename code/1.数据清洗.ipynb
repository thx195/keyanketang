{
 "cells": [
  {
   "cell_type": "markdown",
   "metadata": {},
   "source": [
    "# 数据清洗"
   ]
  },
  {
   "cell_type": "markdown",
   "metadata": {},
   "source": [
    "### 先读取标题行,和看看前100行数据的结构"
   ]
  },
  {
   "cell_type": "code",
   "execution_count": 1,
   "metadata": {},
   "outputs": [
    {
     "name": "stdout",
     "output_type": "stream",
     "text": [
      "列名: ['公开号', '标题', '标题 - DWPI', '优先权号', '优先权号/优先权日 - DWPI', '优先权日', '优先权日 - DWPI', '申请号', '申请日期', '公开日期', '估计的截止日期', '估计截止日期因素 - 放弃权项', '估计截止日期因素 - 估计的最早实际申请日期', '估计截止日期因素 - 估计的期末放弃前专利', '估计截止日期因素 - 期末放弃最早的估计申请日期 ', '估计截止日期因素 - 期末放弃前专利截止日期', '估计截止日期因素 - 35 U.S.C. 专利有效期调整', '估计截止日期因素 - 35 USC 156 有效期 ', '估计截止日期因素 - 公开日期', '估计截止日期因素 - 外观设计专利有效期', '估计截止日期因素 - 授权后专利有效期调整 (PTA)', '估计截止日期因素 - 补充保护证书 (SPC) 有效期', '估计截止日期因素 - 已撤回项文字标识', '估计截止日期终止因素', '预计剩余有效期', '失效/有效', '失效/有效 DWPI 同族专利状态', '失效/有效 Inpadoc 同族专利状态', 'IPC - 现版', 'IPC - 现版 - DWPI', '专利权人/申请人', '当前专利权人 - 美国', '优化的专利权人', '终属母公司', '日本 F Term', '日本 FI 分类号', '项目编号', '标题 (英语)', '摘要 (英语)', '权利要求 (英语)', '说明书 (英语) (30', '000 条记录限制)', '公开年', '公开月', '优先权日 - 最早', 'PCT 申请日期', 'PCT 公开号', 'IPC 大类组', 'IPC 部', 'IPC 大类']\n",
      "前100行数据已成功保存到 E:/solid-state patent data/first_100_rows.xlsx\n"
     ]
    }
   ],
   "source": [
    "import pandas as pd\n",
    "\n",
    "# 数据路径\n",
    "data_path = \"E:/solid-state patent data/csv2025-02-06-12-56-40.csv\"\n",
    "\n",
    "try:\n",
    "    # 读取数据\n",
    "    df = pd.read_csv(data_path, encoding='utf-8', low_memory=False)\n",
    "    \n",
    "    # 输出标题行（列名）\n",
    "    print(\"列名:\", df.columns.tolist())\n",
    "    \n",
    "    # 提取前100行数据\n",
    "    df_first_100 = df.head(100)\n",
    "    \n",
    "    # 定义输出文件路径\n",
    "    output_path = \"E:/solid-state patent data/first_100_rows.xlsx\"\n",
    "    \n",
    "    # 将前100行数据保存为 .xlsx 文件\n",
    "    df_first_100.to_excel(output_path, index=False, engine='openpyxl')\n",
    "    \n",
    "    print(f\"前100行数据已成功保存到 {output_path}\")\n",
    "\n",
    "except Exception as e:\n",
    "    print(\"读取或处理数据时出错:\", e)"
   ]
  },
  {
   "cell_type": "markdown",
   "metadata": {},
   "source": [
    "数据清洗掉缺失值多于10%的列，并提取前一百行检查"
   ]
  },
  {
   "cell_type": "code",
   "execution_count": 2,
   "metadata": {},
   "outputs": [
    {
     "name": "stdout",
     "output_type": "stream",
     "text": [
      "原始列名: ['公开号', '标题', '标题 - DWPI', '优先权号', '优先权号/优先权日 - DWPI', '优先权日', '优先权日 - DWPI', '申请号', '申请日期', '公开日期', '估计的截止日期', '估计截止日期因素 - 放弃权项', '估计截止日期因素 - 估计的最早实际申请日期', '估计截止日期因素 - 估计的期末放弃前专利', '估计截止日期因素 - 期末放弃最早的估计申请日期 ', '估计截止日期因素 - 期末放弃前专利截止日期', '估计截止日期因素 - 35 U.S.C. 专利有效期调整', '估计截止日期因素 - 35 USC 156 有效期 ', '估计截止日期因素 - 公开日期', '估计截止日期因素 - 外观设计专利有效期', '估计截止日期因素 - 授权后专利有效期调整 (PTA)', '估计截止日期因素 - 补充保护证书 (SPC) 有效期', '估计截止日期因素 - 已撤回项文字标识', '估计截止日期终止因素', '预计剩余有效期', '失效/有效', '失效/有效 DWPI 同族专利状态', '失效/有效 Inpadoc 同族专利状态', 'IPC - 现版', 'IPC - 现版 - DWPI', '专利权人/申请人', '当前专利权人 - 美国', '优化的专利权人', '终属母公司', '日本 F Term', '日本 FI 分类号', '项目编号', '标题 (英语)', '摘要 (英语)', '权利要求 (英语)', '说明书 (英语) (30', '000 条记录限制)', '公开年', '公开月', '优先权日 - 最早', 'PCT 申请日期', 'PCT 公开号', 'IPC 大类组', 'IPC 部', 'IPC 大类']\n",
      "筛选后列名: ['公开号', '标题', '标题 - DWPI', '优先权号', '优先权号/优先权日 - DWPI', '优先权日', '优先权日 - DWPI', '申请号', '申请日期', '公开日期', '失效/有效', '失效/有效 DWPI 同族专利状态', '失效/有效 Inpadoc 同族专利状态', 'IPC - 现版', 'IPC - 现版 - DWPI', '专利权人/申请人', '优化的专利权人', '终属母公司', '项目编号', '标题 (英语)', '000 条记录限制)', '公开年', '公开月', 'PCT 公开号', 'IPC 大类组', 'IPC 部', '摘要 (英语)']\n",
      "缺失值比例在 5% 以下的列（含强制保留的 '摘要 (英语)' 列）已成功保存到 E:/solid-state patent data/csv_cleaned-1_2025-02-06-12-56-40.csv\n",
      "前100行数据已成功保存到 E:/solid-state patent data/first_100_rows-cleaned.xlsx\n"
     ]
    }
   ],
   "source": [
    "import pandas as pd\n",
    "\n",
    "# 数据路径\n",
    "data_path = \"E:/solid-state patent data/csv2025-02-06-12-56-40.csv\"\n",
    "cleaned_data_path = \"E:/solid-state patent data/csv_cleaned-1_2025-02-06-12-56-40.csv\"\n",
    "excel_output_path = \"E:/solid-state patent data/first_100_rows-cleaned.xlsx\"\n",
    "\n",
    "try:\n",
    "    # 读取数据\n",
    "    df = pd.read_csv(data_path, encoding='utf-8', low_memory=False)\n",
    "    \n",
    "    # 输出标题行（列名）\n",
    "    print(\"原始列名:\", df.columns.tolist())\n",
    "    \n",
    "    # 计算每列的缺失值比例\n",
    "    missing_ratio = df.isnull().mean()\n",
    "    \n",
    "    # 筛选出缺失值比例小于等于 5% 的列\n",
    "    selected_columns = missing_ratio[missing_ratio <= 0.05].index.tolist()\n",
    "    \n",
    "    # 强制保留 '摘要 (英语)' 列，即使其缺失值比例超过 5%\n",
    "    if '摘要 (英语)' in df.columns and '摘要 (英语)' not in selected_columns:\n",
    "        selected_columns.append('摘要 (英语)')\n",
    "    \n",
    "    # 提取符合条件的列\n",
    "    df_cleaned = df[selected_columns]\n",
    "    \n",
    "    # 输出筛选后的列名\n",
    "    print(\"筛选后列名:\", selected_columns)\n",
    "    \n",
    "    # 将筛选后的数据保存为新的 CSV 文件\n",
    "    df_cleaned.to_csv(cleaned_data_path, index=False, encoding='utf-8')\n",
    "    \n",
    "    print(f\"缺失值比例在 5% 以下的列（含强制保留的 '摘要 (英语)' 列）已成功保存到 {cleaned_data_path}\")\n",
    "    \n",
    "    # 提取前100行数据\n",
    "    df_first_100 = df_cleaned.head(100)\n",
    "    \n",
    "    # 将前100行数据保存为 .xlsx 文件\n",
    "    df_first_100.to_excel(excel_output_path, index=False, engine='openpyxl')\n",
    "    \n",
    "    print(f\"前100行数据已成功保存到 {excel_output_path}\")\n",
    "\n",
    "except Exception as e:\n",
    "    print(\"读取或处理数据时出错:\", e)"
   ]
  },
  {
   "cell_type": "markdown",
   "metadata": {},
   "source": [
    "发现IPC现版列有多个值，在处理 IPC - 现版 列时，由于每个专利可能对应多个 IPC 分类号（用分隔符如 | 分隔），为了方便后续进行共现网络分析、社区划分以及 TERGM（Temporal Exponential Random Graph Model）建模，建议 保留所有分类号 ，而不是只取其中一个"
   ]
  },
  {
   "cell_type": "code",
   "execution_count": 3,
   "metadata": {},
   "outputs": [
    {
     "name": "stdout",
     "output_type": "stream",
     "text": [
      "原始列名: ['公开号', '标题', '标题 - DWPI', '优先权号', '优先权号/优先权日 - DWPI', '优先权日', '优先权日 - DWPI', '申请号', '申请日期', '公开日期', '失效/有效', '失效/有效 DWPI 同族专利状态', '失效/有效 Inpadoc 同族专利状态', 'IPC - 现版', 'IPC - 现版 - DWPI', '专利权人/申请人', '优化的专利权人', '终属母公司', '项目编号', '标题 (英语)', '000 条记录限制)', '公开年', '公开月', 'PCT 公开号', 'IPC 大类组', 'IPC 部', '摘要 (英语)']\n",
      "处理后列名: ['公开号', '标题', '标题 - DWPI', '优先权号', '优先权号/优先权日 - DWPI', '优先权日', '优先权日 - DWPI', '申请号', '申请日期', '公开日期', '失效/有效', '失效/有效 DWPI 同族专利状态', '失效/有效 Inpadoc 同族专利状态', 'IPC - 现版', 'IPC - 现版 - DWPI', '专利权人/申请人', '优化的专利权人', '终属母公司', '项目编号', '标题 (英语)', '000 条记录限制)', '公开年', '公开月', 'PCT 公开号', 'IPC 大类组', 'IPC 部', '摘要 (英语)']\n",
      "处理后的数据已成功保存到 E:/solid-state patent data/csv_cleaned_ipc.csv\n"
     ]
    }
   ],
   "source": [
    "import pandas as pd\n",
    "\n",
    "# 数据路径\n",
    "data_path = \"E:/solid-state patent data/csv_cleaned-1_2025-02-06-12-56-40.csv\"\n",
    "cleaned_data_path = \"E:/solid-state patent data/csv_cleaned_ipc.csv\"\n",
    "\n",
    "try:\n",
    "    # 读取数据\n",
    "    df = pd.read_csv(data_path, encoding='utf-8', low_memory=False)\n",
    "    \n",
    "    # 输出原始列名\n",
    "    print(\"原始列名:\", df.columns.tolist())\n",
    "    \n",
    "    # 检查是否存在 'IPC - 现版' 列\n",
    "    if 'IPC - 现版' not in df.columns:\n",
    "        raise KeyError(\"数据中缺少 'IPC - 现版' 列，请检查数据。\")\n",
    "    \n",
    "    # 清洗 'IPC - 现版' 列：拆分多值字段（以 '|' 分隔）\n",
    "    df['IPC - 现版'] = df['IPC - 现版'].str.split('|')\n",
    "    \n",
    "    # 展平数据：将每个分类号展开为单独的行\n",
    "    df_ipc = df.explode('IPC - 现版')\n",
    "    \n",
    "    # 标准化分类号（可选）：去掉空格并截取前四位\n",
    "    df_ipc['IPC - 现版'] = df_ipc['IPC - 现版'].str.strip().str[:4]\n",
    "    \n",
    "    # 去除空值（如果有）\n",
    "    df_ipc = df_ipc.dropna(subset=['IPC - 现版'])\n",
    "    \n",
    "    # 输出处理后的列名\n",
    "    print(\"处理后列名:\", df_ipc.columns.tolist())\n",
    "    \n",
    "    # 将处理后的数据保存为新的 CSV 文件\n",
    "    df_ipc.to_csv(cleaned_data_path, index=False, encoding='utf-8')\n",
    "    \n",
    "    print(f\"处理后的数据已成功保存到 {cleaned_data_path}\")\n",
    "\n",
    "except Exception as e:\n",
    "    print(\"读取或处理数据时出错:\", e)"
   ]
  }
 ],
 "metadata": {
  "kernelspec": {
   "display_name": "Python 3",
   "language": "python",
   "name": "python3"
  },
  "language_info": {
   "codemirror_mode": {
    "name": "ipython",
    "version": 3
   },
   "file_extension": ".py",
   "mimetype": "text/x-python",
   "name": "python",
   "nbconvert_exporter": "python",
   "pygments_lexer": "ipython3",
   "version": "3.9.12"
  }
 },
 "nbformat": 4,
 "nbformat_minor": 2
}
